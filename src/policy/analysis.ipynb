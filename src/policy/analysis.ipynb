{
 "cells": [
  {
   "cell_type": "markdown",
   "source": [
    "# Analysis\n",
    "Let's compare the results of the computed optimal policy to the actual OBP of different states."
   ],
   "metadata": {
    "collapsed": false
   },
   "id": "ceb42f744ff85ed"
  },
  {
   "cell_type": "code",
   "execution_count": 1,
   "outputs": [],
   "source": [
    "from collections import defaultdict\n",
    "\n",
    "import numpy as np\n",
    "from matplotlib import pyplot as plt\n",
    "from tqdm import tqdm_notebook as tqdm\n",
    "\n",
    "from src.data.data_loading import BaseballData\n",
    "from src.model.at_bat import AtBatState, AtBatOutcome\n",
    "from src.model.players import Pitcher, Batter\n",
    "from src.policy.optimal_policy import calculate_swing_outcome_distribution, calculate_batter_patience_distribution, calculate_pitcher_control_distribution, precalculate_transition_distribution, calculate_optimal_policy"
   ],
   "metadata": {
    "collapsed": false,
    "ExecuteTime": {
     "end_time": "2024-06-05T17:08:16.715951100Z",
     "start_time": "2024-06-05T17:08:10.728209600Z"
    }
   },
   "id": "96fbe4b5194e940d"
  },
  {
   "cell_type": "code",
   "execution_count": 2,
   "outputs": [
    {
     "name": "stdout",
     "output_type": "stream",
     "text": [
      "Loading baseball data from cache... done\n"
     ]
    }
   ],
   "source": [
    "bd = BaseballData.load_with_cache()"
   ],
   "metadata": {
    "collapsed": false,
    "ExecuteTime": {
     "end_time": "2024-06-05T17:08:31.173201600Z",
     "start_time": "2024-06-05T17:08:16.715951100Z"
    }
   },
   "id": "e5757e7a7da5fde7"
  },
  {
   "cell_type": "code",
   "execution_count": 3,
   "outputs": [],
   "source": [
    "conditions = {\n",
    "    'strong pitcher vs. weak batter': lambda p: p.at_bat.pitcher.obp_percentile > 0.75 and p.at_bat.batter.obp_percentile < 1/2,\n",
    "    'weak pitcher vs. strong batter': lambda p: p.at_bat.pitcher.obp_percentile < 0.25 and p.at_bat.batter.obp_percentile > 1/2,\n",
    "}\n",
    "\n",
    "states = set([AtBatState(balls=balls, strikes=strikes) for balls in range(4) for strikes in range(3)])\n",
    "\n",
    "empirical_obp: dict[str, dict[AtBatState, float]] = defaultdict(lambda: defaultdict(float))\n",
    "matches: dict[str, dict[AtBatState, float]] = defaultdict(lambda: defaultdict(float))\n",
    "\n",
    "matchups: dict[str, set[tuple[Pitcher, Batter]]] = defaultdict(set)\n",
    "pitchers = set()\n",
    "batters = set()\n",
    "\n",
    "for idx, pitch in enumerate(bd.pitches):\n",
    "    for condition_name, condition in conditions.items():\n",
    "        if condition(pitch) and pitch.at_bat_state in states:\n",
    "            matches[condition_name][pitch.at_bat_state] += 1\n",
    "            empirical_obp[condition_name][pitch.at_bat_state] += pitch.at_bat.state.outcome == AtBatOutcome.BASE\n",
    "            matchups[condition_name].add((pitch.at_bat.pitcher, pitch.at_bat.batter))\n",
    "            pitchers.add(pitch.at_bat.pitcher)\n",
    "            batters.add(pitch.at_bat.batter)\n",
    "for condition_name in conditions:\n",
    "    for state in states:\n",
    "        if matches[condition_name][state] > 0:\n",
    "            empirical_obp[condition_name][state] /= matches[condition_name][state]"
   ],
   "metadata": {
    "collapsed": false,
    "ExecuteTime": {
     "end_time": "2024-06-05T17:08:37.259052100Z",
     "start_time": "2024-06-05T17:08:31.172204300Z"
    }
   },
   "id": "c4da4f8d2b9afd19"
  },
  {
   "cell_type": "code",
   "execution_count": 7,
   "outputs": [
    {
     "data": {
      "text/plain": "Calculating swing outcomes:   0%|          | 0/12 [00:00<?, ?it/s]",
      "application/vnd.jupyter.widget-view+json": {
       "version_major": 2,
       "version_minor": 0,
       "model_id": "b65fbe9fe1354a4e8e59ebcdaf4c4318"
      }
     },
     "metadata": {},
     "output_type": "display_data"
    },
    {
     "data": {
      "text/plain": "  0%|          | 0/102 [00:00<?, ?it/s]",
      "application/vnd.jupyter.widget-view+json": {
       "version_major": 2,
       "version_minor": 0,
       "model_id": "ee87135a8c8940a891db7e0ead2184f8"
      }
     },
     "metadata": {},
     "output_type": "display_data"
    },
    {
     "data": {
      "text/plain": "  0%|          | 0/102 [00:00<?, ?it/s]",
      "application/vnd.jupyter.widget-view+json": {
       "version_major": 2,
       "version_minor": 0,
       "model_id": "bf1b3faa101745f3b5a36be2376766cb"
      }
     },
     "metadata": {},
     "output_type": "display_data"
    },
    {
     "data": {
      "text/plain": "  0%|          | 0/102 [00:00<?, ?it/s]",
      "application/vnd.jupyter.widget-view+json": {
       "version_major": 2,
       "version_minor": 0,
       "model_id": "68a64a95b310422cb8fecf7bec157987"
      }
     },
     "metadata": {},
     "output_type": "display_data"
    },
    {
     "data": {
      "text/plain": "  0%|          | 0/102 [00:00<?, ?it/s]",
      "application/vnd.jupyter.widget-view+json": {
       "version_major": 2,
       "version_minor": 0,
       "model_id": "b6c36282a1e1400b9b7767ff2516ce0a"
      }
     },
     "metadata": {},
     "output_type": "display_data"
    },
    {
     "data": {
      "text/plain": "  0%|          | 0/102 [00:00<?, ?it/s]",
      "application/vnd.jupyter.widget-view+json": {
       "version_major": 2,
       "version_minor": 0,
       "model_id": "0c850421dd62428c884368a11c2c555b"
      }
     },
     "metadata": {},
     "output_type": "display_data"
    },
    {
     "data": {
      "text/plain": "  0%|          | 0/102 [00:00<?, ?it/s]",
      "application/vnd.jupyter.widget-view+json": {
       "version_major": 2,
       "version_minor": 0,
       "model_id": "eba8263f0e2c45d887faffb331367bef"
      }
     },
     "metadata": {},
     "output_type": "display_data"
    },
    {
     "data": {
      "text/plain": "  0%|          | 0/102 [00:00<?, ?it/s]",
      "application/vnd.jupyter.widget-view+json": {
       "version_major": 2,
       "version_minor": 0,
       "model_id": "dc4e006d71914732a4c034d7b036d46e"
      }
     },
     "metadata": {},
     "output_type": "display_data"
    },
    {
     "data": {
      "text/plain": "  0%|          | 0/102 [00:00<?, ?it/s]",
      "application/vnd.jupyter.widget-view+json": {
       "version_major": 2,
       "version_minor": 0,
       "model_id": "ba61233ae3424810919b4f865494c6c3"
      }
     },
     "metadata": {},
     "output_type": "display_data"
    },
    {
     "data": {
      "text/plain": "  0%|          | 0/102 [00:00<?, ?it/s]",
      "application/vnd.jupyter.widget-view+json": {
       "version_major": 2,
       "version_minor": 0,
       "model_id": "2e37f7eebd0749b7b1f0ed49dabfd2a2"
      }
     },
     "metadata": {},
     "output_type": "display_data"
    },
    {
     "data": {
      "text/plain": "  0%|          | 0/102 [00:00<?, ?it/s]",
      "application/vnd.jupyter.widget-view+json": {
       "version_major": 2,
       "version_minor": 0,
       "model_id": "b8935b546eb94ca0bd62e014d8e2506f"
      }
     },
     "metadata": {},
     "output_type": "display_data"
    },
    {
     "data": {
      "text/plain": "  0%|          | 0/102 [00:00<?, ?it/s]",
      "application/vnd.jupyter.widget-view+json": {
       "version_major": 2,
       "version_minor": 0,
       "model_id": "efc23e7231cf4dee926cad398346b79f"
      }
     },
     "metadata": {},
     "output_type": "display_data"
    },
    {
     "data": {
      "text/plain": "  0%|          | 0/102 [00:00<?, ?it/s]",
      "application/vnd.jupyter.widget-view+json": {
       "version_major": 2,
       "version_minor": 0,
       "model_id": "5bf7760bdecc4c4982670106324e89c7"
      }
     },
     "metadata": {},
     "output_type": "display_data"
    },
    {
     "data": {
      "text/plain": "0.178355"
     },
     "execution_count": 7,
     "metadata": {},
     "output_type": "execute_result"
    }
   ],
   "source": [
    "# This is causing me serious memory issues \n",
    "swing_outcome_distribution = calculate_swing_outcome_distribution([matchup for condition in conditions for matchup in matchups[condition]])"
   ],
   "metadata": {
    "collapsed": false,
    "ExecuteTime": {
     "end_time": "2024-06-05T17:10:15.657890700Z",
     "start_time": "2024-06-05T17:10:11.534574600Z"
    }
   },
   "id": "108d4902d577065"
  },
  {
   "cell_type": "code",
   "execution_count": null,
   "outputs": [],
   "source": [
    "pitcher_control_distribution = calculate_pitcher_control_distribution(list(pitchers))"
   ],
   "metadata": {
    "collapsed": false
   },
   "id": "5b769216678a3ff5"
  },
  {
   "cell_type": "code",
   "execution_count": null,
   "outputs": [],
   "source": [
    "batter_patience_distribution = calculate_batter_patience_distribution(list(batters))"
   ],
   "metadata": {
    "collapsed": false
   },
   "id": "9edb70ca6acc17ec"
  },
  {
   "cell_type": "code",
   "execution_count": null,
   "outputs": [],
   "source": [
    "predicted_obp: dict[str, dict[AtBatState, float]] = defaultdict(lambda: defaultdict(float))\n",
    "for condition_name in conditions:\n",
    "    for pitcher, batter in tqdm(matchups[condition_name]):\n",
    "        transition_distribution = precalculate_transition_distribution(pitcher, batter, swing_outcome_distribution[(pitcher, batter)], pitcher_control_distribution[pitcher], batter_patience_distribution[batter])\n",
    "        policy, values = calculate_optimal_policy(pitcher, batter, transition_distribution)\n",
    "        \n",
    "        # The values[AtBatState] corresponds to the OBP at that point\n",
    "        for state in states:\n",
    "            predicted_obp[condition_name][state] += values[state]"
   ],
   "metadata": {
    "collapsed": false
   },
   "id": "958f8c7062db98ba"
  },
  {
   "cell_type": "code",
   "execution_count": null,
   "outputs": [],
   "source": [
    "sorted_states = sorted(states, key=lambda s: (s.balls, s.strikes))\n",
    "\n",
    "fig, ax = plt.subplots(figsize=(12, 6))\n",
    "\n",
    "bar_width = 0.35\n",
    "index = np.arange(len(states))\n",
    "\n",
    "for i, condition in enumerate(conditions):\n",
    "    empirical_obp_values = [empirical_obp[condition][state] for state in sorted_states]\n",
    "    predicted_obp_values = [predicted_obp[condition][state] for state in sorted_states]\n",
    "    \n",
    "    bar_position = index + i * bar_width\n",
    "    ax.bar(bar_position, empirical_obp_values, bar_width, label=f'Empirical {condition}')\n",
    "    ax.bar(bar_position, predicted_obp_values, bar_width, label=f'Predicted {condition}', alpha=0.5, hatch='\\\\')\n",
    "\n",
    "# Adding labels and titles\n",
    "ax.set_xlabel('At-Bat States (Balls, Strikes)')\n",
    "ax.set_ylabel('OBP')\n",
    "ax.set_title('Empirical and Predicted OBP by At-Bat State and Condition')\n",
    "ax.set_xticks(index + bar_width / 2)\n",
    "ax.set_xticklabels([f'{state.balls}-{state.strikes}' for state in sorted_states])\n",
    "ax.legend()\n",
    "\n",
    "# Display the plot\n",
    "plt.xticks(rotation=45)\n",
    "plt.ylim(0, 1)\n",
    "plt.tight_layout()\n",
    "plt.show()"
   ],
   "metadata": {
    "collapsed": false
   },
   "id": "fd4866b68c49ae85"
  },
  {
   "cell_type": "code",
   "execution_count": null,
   "outputs": [],
   "source": [],
   "metadata": {
    "collapsed": false
   },
   "id": "ffbc7de795243125"
  }
 ],
 "metadata": {
  "kernelspec": {
   "display_name": "Python 3",
   "language": "python",
   "name": "python3"
  },
  "language_info": {
   "codemirror_mode": {
    "name": "ipython",
    "version": 2
   },
   "file_extension": ".py",
   "mimetype": "text/x-python",
   "name": "python",
   "nbconvert_exporter": "python",
   "pygments_lexer": "ipython2",
   "version": "2.7.6"
  }
 },
 "nbformat": 4,
 "nbformat_minor": 5
}
