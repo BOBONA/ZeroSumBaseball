{
 "cells": [
  {
   "cell_type": "markdown",
   "source": [
    "# Analysis\n",
    "Let's compare the results of the computed optimal policy to the actual OBP of different states."
   ],
   "metadata": {
    "collapsed": false
   },
   "id": "ceb42f744ff85ed"
  },
  {
   "cell_type": "code",
   "execution_count": null,
   "outputs": [],
   "source": [
    "from collections import defaultdict\n",
    "\n",
    "import numpy as np\n",
    "from matplotlib import pyplot as plt\n",
    "from tqdm import tqdm_notebook as tqdm\n",
    "\n",
    "from src.data.data_loading import BaseballData\n",
    "from src.model.at_bat import AtBatState, AtBatOutcome\n",
    "from src.model.players import Pitcher, Batter\n",
    "from src.policy.optimal_policy import calculate_swing_outcome_distribution, calculate_batter_patience_distribution, calculate_pitcher_control_distribution, precalculate_transition_distribution, calculate_optimal_policy"
   ],
   "metadata": {
    "collapsed": false
   },
   "id": "96fbe4b5194e940d"
  },
  {
   "cell_type": "code",
   "execution_count": null,
   "outputs": [],
   "source": [
    "bd = BaseballData.load_with_cache()"
   ],
   "metadata": {
    "collapsed": false
   },
   "id": "e5757e7a7da5fde7"
  },
  {
   "cell_type": "code",
   "execution_count": null,
   "outputs": [],
   "source": [
    "conditions = {\n",
    "    'strong pitcher vs. weak batter': lambda p: p.at_bat.pitcher.obp_percentile > 0.75 and p.at_bat.batter.obp_percentile < 1/2,\n",
    "    'weak pitcher vs. strong batter': lambda p: p.at_bat.pitcher.obp_percentile < 0.25 and p.at_bat.batter.obp_percentile > 1/2,\n",
    "}\n",
    "\n",
    "states = set([AtBatState(balls=balls, strikes=strikes) for balls in range(4) for strikes in range(3)])\n",
    "\n",
    "empirical_obp: dict[str, dict[AtBatState, float]] = defaultdict(lambda: defaultdict(float))\n",
    "matches: dict[str, dict[AtBatState, float]] = defaultdict(lambda: defaultdict(float))\n",
    "\n",
    "matchups: dict[str, set[tuple[Pitcher, Batter]]] = defaultdict(set)\n",
    "pitchers = set()\n",
    "batters = set()\n",
    "\n",
    "for idx, pitch in enumerate(bd.pitches):\n",
    "    for condition_name, condition in conditions.items():\n",
    "        if condition(pitch) and pitch.at_bat_state in states:\n",
    "            matches[condition_name][pitch.at_bat_state] += 1\n",
    "            empirical_obp[condition_name][pitch.at_bat_state] += pitch.at_bat.state.outcome == AtBatOutcome.BASE\n",
    "            matchups[condition_name].add((pitch.at_bat.pitcher, pitch.at_bat.batter))\n",
    "            pitchers.add(pitch.at_bat.pitcher)\n",
    "            batters.add(pitch.at_bat.batter)\n",
    "for condition_name in conditions:\n",
    "    for state in states:\n",
    "        if matches[condition_name][state] > 0:\n",
    "            empirical_obp[condition_name][state] /= matches[condition_name][state]"
   ],
   "metadata": {
    "collapsed": false
   },
   "id": "c4da4f8d2b9afd19"
  },
  {
   "cell_type": "code",
   "execution_count": null,
   "outputs": [],
   "source": [
    "# This is causing me serious memory issues on my laptop, but Colab seems to handle it fine\n",
    "swing_outcome_distribution = calculate_swing_outcome_distribution([matchup for condition in conditions for matchup in matchups[condition]])"
   ],
   "metadata": {
    "collapsed": false
   },
   "id": "108d4902d577065"
  },
  {
   "cell_type": "code",
   "execution_count": null,
   "outputs": [],
   "source": [
    "pitcher_control_distribution = calculate_pitcher_control_distribution(list(pitchers))"
   ],
   "metadata": {
    "collapsed": false
   },
   "id": "5b769216678a3ff5"
  },
  {
   "cell_type": "code",
   "execution_count": null,
   "outputs": [],
   "source": [
    "batter_patience_distribution = calculate_batter_patience_distribution(list(batters))"
   ],
   "metadata": {
    "collapsed": false
   },
   "id": "9edb70ca6acc17ec"
  },
  {
   "cell_type": "code",
   "execution_count": null,
   "outputs": [],
   "source": [
    "predicted_obp: dict[str, dict[AtBatState, float]] = defaultdict(lambda: defaultdict(float))\n",
    "for condition_name in conditions:\n",
    "    for pitcher, batter in tqdm(matchups[condition_name]):\n",
    "        transition_distribution = precalculate_transition_distribution(pitcher, batter, swing_outcome_distribution[(pitcher, batter)], pitcher_control_distribution[pitcher], batter_patience_distribution[batter])\n",
    "        policy, values = calculate_optimal_policy(pitcher, batter, transition_distribution)\n",
    "        \n",
    "        # The values[AtBatState] corresponds to the OBP at that point\n",
    "        for state in states:\n",
    "            predicted_obp[condition_name][state] += values[state]"
   ],
   "metadata": {
    "collapsed": false
   },
   "id": "958f8c7062db98ba"
  },
  {
   "cell_type": "code",
   "execution_count": null,
   "outputs": [],
   "source": [
    "sorted_states = sorted(states, key=lambda s: (s.balls, s.strikes))\n",
    "\n",
    "fig, ax = plt.subplots(figsize=(12, 6))\n",
    "\n",
    "bar_width = 0.35\n",
    "index = np.arange(len(states))\n",
    "\n",
    "for i, condition in enumerate(conditions):\n",
    "    empirical_obp_values = [empirical_obp[condition][state] for state in sorted_states]\n",
    "    predicted_obp_values = [predicted_obp[condition][state] for state in sorted_states]\n",
    "    \n",
    "    bar_position = index + i * bar_width\n",
    "    ax.bar(bar_position, empirical_obp_values, bar_width, label=f'Empirical {condition}')\n",
    "    ax.bar(bar_position, predicted_obp_values, bar_width, label=f'Predicted {condition}', alpha=0.5, hatch='\\\\')\n",
    "\n",
    "# Adding labels and titles\n",
    "ax.set_xlabel('At-Bat States (Balls, Strikes)')\n",
    "ax.set_ylabel('OBP')\n",
    "ax.set_title('Empirical and Predicted OBP by At-Bat State and Condition')\n",
    "ax.set_xticks(index + bar_width / 2)\n",
    "ax.set_xticklabels([f'{state.balls}-{state.strikes}' for state in sorted_states])\n",
    "ax.legend()\n",
    "\n",
    "# Display the plot\n",
    "plt.xticks(rotation=45)\n",
    "plt.ylim(0, 1)\n",
    "plt.tight_layout()\n",
    "plt.show()"
   ],
   "metadata": {
    "collapsed": false
   },
   "id": "fd4866b68c49ae85"
  },
  {
   "cell_type": "code",
   "execution_count": null,
   "outputs": [],
   "source": [],
   "metadata": {
    "collapsed": false
   },
   "id": "ffbc7de795243125"
  }
 ],
 "metadata": {
  "kernelspec": {
   "display_name": "Python 3",
   "language": "python",
   "name": "python3"
  },
  "language_info": {
   "codemirror_mode": {
    "name": "ipython",
    "version": 2
   },
   "file_extension": ".py",
   "mimetype": "text/x-python",
   "name": "python",
   "nbconvert_exporter": "python",
   "pygments_lexer": "ipython2",
   "version": "2.7.6"
  }
 },
 "nbformat": 4,
 "nbformat_minor": 5
}
