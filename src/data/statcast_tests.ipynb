{
 "cells": [
  {
   "cell_type": "code",
   "execution_count": 1,
   "id": "initial_id",
   "metadata": {
    "collapsed": true,
    "ExecuteTime": {
     "end_time": "2024-07-10T16:48:20.654634300Z",
     "start_time": "2024-07-10T16:48:18.575716900Z"
    }
   },
   "outputs": [],
   "source": [
    "import pickle\n",
    "import blosc2"
   ]
  },
  {
   "cell_type": "code",
   "execution_count": 2,
   "outputs": [],
   "source": [
    "with open(f'../../raw_data/statcast/{2017}.blosc2', 'rb') as f:\n",
    "    data = f.read()\n",
    "decompressed = blosc2.decompress(data)\n",
    "dataframe = pickle.loads(decompressed)"
   ],
   "metadata": {
    "collapsed": false,
    "ExecuteTime": {
     "end_time": "2024-07-10T16:48:21.601918100Z",
     "start_time": "2024-07-10T16:48:20.656628700Z"
    }
   },
   "id": "be56e20ce4f9f706"
  },
  {
   "cell_type": "code",
   "execution_count": 3,
   "outputs": [
    {
     "data": {
      "text/plain": "0      75\n1      74\n2      74\n3      74\n5      74\n       ..\n789     2\n817     1\n834     1\n874     1\n909     1\nName: at_bat_number, Length: 732477, dtype: Int64"
     },
     "execution_count": 3,
     "metadata": {},
     "output_type": "execute_result"
    }
   ],
   "source": [
    "dataframe.at_bat_number"
   ],
   "metadata": {
    "collapsed": false,
    "ExecuteTime": {
     "end_time": "2024-07-10T16:48:21.613005100Z",
     "start_time": "2024-07-10T16:48:21.603920100Z"
    }
   },
   "id": "a65f7254c04fdded"
  },
  {
   "cell_type": "code",
   "execution_count": 1,
   "outputs": [
    {
     "data": {
      "text/plain": "11338962"
     },
     "execution_count": 1,
     "metadata": {},
     "output_type": "execute_result"
    }
   ],
   "source": [
    "from src.data.data_loading import BaseballData\n",
    "\n",
    "bd = BaseballData()\n",
    "len(bd.pitches)"
   ],
   "metadata": {
    "collapsed": false,
    "ExecuteTime": {
     "end_time": "2024-07-09T01:27:08.109390900Z",
     "start_time": "2024-07-09T01:26:29.075564200Z"
    }
   },
   "id": "823fdd53a442bc9"
  },
  {
   "cell_type": "code",
   "execution_count": 7,
   "outputs": [
    {
     "name": "stdout",
     "output_type": "stream",
     "text": [
      "0.12469577501554714\n",
      "0.1190470772762831\n"
     ]
    }
   ],
   "source": [
    "from src.model.at_bat import PitchResult\n",
    "\n",
    "loaded = [p for p in bd.pitches if p.at_bat_state.first and p.at_bat_state.second and p.at_bat_state.third and p.is_valid()]\n",
    "print(len([p for p in loaded if p.result == PitchResult.HIT_OUT]) / len(loaded))\n",
    "\n",
    "empty = [p for p in bd.pitches if not p.at_bat_state.first and not p.at_bat_state.second and not p.at_bat_state.third and p.is_valid()]\n",
    "print(len([p for p in empty if p.result == PitchResult.HIT_OUT]) / len(empty))"
   ],
   "metadata": {
    "collapsed": false,
    "ExecuteTime": {
     "end_time": "2024-07-09T01:40:48.175299300Z",
     "start_time": "2024-07-09T01:40:43.915317900Z"
    }
   },
   "id": "73c9059eb5d89e19"
  },
  {
   "cell_type": "code",
   "execution_count": 8,
   "outputs": [
    {
     "data": {
      "text/plain": "(260498, 6372395)"
     },
     "execution_count": 8,
     "metadata": {},
     "output_type": "execute_result"
    }
   ],
   "source": [
    "len(loaded), len(empty)"
   ],
   "metadata": {
    "collapsed": false,
    "ExecuteTime": {
     "end_time": "2024-07-09T01:40:49.434528400Z",
     "start_time": "2024-07-09T01:40:49.410540900Z"
    }
   },
   "id": "b9d89bb81e049090"
  }
 ],
 "metadata": {
  "kernelspec": {
   "display_name": "Python 3",
   "language": "python",
   "name": "python3"
  },
  "language_info": {
   "codemirror_mode": {
    "name": "ipython",
    "version": 2
   },
   "file_extension": ".py",
   "mimetype": "text/x-python",
   "name": "python",
   "nbconvert_exporter": "python",
   "pygments_lexer": "ipython2",
   "version": "2.7.6"
  }
 },
 "nbformat": 4,
 "nbformat_minor": 5
}
